{
 "cells": [
  {
   "cell_type": "code",
   "execution_count": null,
   "id": "1d90cf9f-3780-4f85-9e38-234fda08d365",
   "metadata": {},
   "outputs": [],
   "source": [
    "import guidance\n",
    "from guidance import gen, select, models, assistant, system, user"
   ]
  },
  {
   "cell_type": "code",
   "execution_count": null,
   "id": "c2c4c436-d96b-4574-8f4b-1c2c273e7033",
   "metadata": {},
   "outputs": [],
   "source": [
    "lm = models.Transformers(\"microsoft/Phi-3-mini-4k-instruct\")"
   ]
  },
  {
   "cell_type": "code",
   "execution_count": null,
   "id": "521abe33-c507-42b6-8fc0-22c11f47badd",
   "metadata": {},
   "outputs": [],
   "source": [
    "chat_lm = lm\n",
    "\n",
    "with user():\n",
    "    chat_lm += \"How are you?\"\n",
    "\n",
    "with assistant():\n",
    "    chat_lm += gen(\"chat_response\", max_tokens=20)"
   ]
  },
  {
   "cell_type": "code",
   "execution_count": null,
   "id": "91ea11b4-3152-484f-b6e3-d0fe8af98fd4",
   "metadata": {},
   "outputs": [],
   "source": [
    "chat_lm[\"chat_response\"]"
   ]
  },
  {
   "cell_type": "code",
   "execution_count": null,
   "id": "6cb81999-a5cf-4311-9449-6df4194971f9",
   "metadata": {},
   "outputs": [],
   "source": [
    "food_lm = lm\n",
    "\n",
    "with user():\n",
    "    food_lm += \"Do you like brussels sprouts?\"\n",
    "\n",
    "with assistant():\n",
    "    food_lm += select(name=\"brussels\", options=[\"Yes, I like them\" , \"No I despise them\"])"
   ]
  },
  {
   "cell_type": "code",
   "execution_count": null,
   "id": "7c1f0da5-a889-46f8-9aa5-f81834c29941",
   "metadata": {},
   "outputs": [],
   "source": [
    "food_lm[\"brussels\"]"
   ]
  },
  {
   "cell_type": "code",
   "execution_count": null,
   "id": "d6dfcbe3-0a2d-4aca-bf50-587d6a63e41b",
   "metadata": {},
   "outputs": [],
   "source": [
    "import json\n",
    "from jsonschema import validate"
   ]
  },
  {
   "cell_type": "code",
   "execution_count": null,
   "id": "43742840-4431-45c2-858f-5444de5f91c4",
   "metadata": {},
   "outputs": [],
   "source": [
    "character_schema = \"\"\"{\n",
    "    \"type\": \"object\",\n",
    "    \"properties\": {\n",
    "        \"description\" : { \"type\" : \"string\" },\n",
    "        \"name\" : { \"type\" : \"string\" },\n",
    "        \"age\" : { \"type\" : \"integer\" },\n",
    "        \"armour\" : { \"type\" : \"string\", \"enum\" : [\"leather\", \"chainmail\", \"plate\"] },\n",
    "        \"weapon\" : { \"type\" : \"string\", \"enum\" : [\"sword\", \"axe\", \"mace\", \"spear\", \"bow\", \"crossbow\"] },\n",
    "        \"class\" : { \"type\" : \"string\" },\n",
    "        \"mantra\" : { \"type\" : \"string\" },\n",
    "        \"strength\" : { \"type\" : \"integer\" },\n",
    "        \"quest_items\" : { \"type\" : \"array\", \"items\" : { \"type\" : \"string\" } }\n",
    "    },\n",
    "    \"additionalProperties\": false\n",
    "}\n",
    "\"\"\"\n",
    "\n",
    "character_schema_obj = json.loads(character_schema)"
   ]
  },
  {
   "cell_type": "code",
   "execution_count": null,
   "id": "8723aaa7-c8aa-4cbb-a05d-24f8e907b337",
   "metadata": {},
   "outputs": [],
   "source": [
    "from guidance import json as gen_json"
   ]
  },
  {
   "cell_type": "code",
   "execution_count": null,
   "id": "5fa8c1d8-b9ab-4e37-b6fc-d611a343ed6f",
   "metadata": {},
   "outputs": [],
   "source": [
    "character_lm = lm\n",
    "\n",
    "with system():\n",
    "    character_lm += \"\"\"You are a DM creating characters for a game set in a Tolkienesque setting.\n",
    "Users will provide a one-line description of a character, you and should respond with a longer\n",
    "description in JSON format.\n",
    "\"\"\"\n",
    "\n",
    "# Now give an example\n",
    "with user():\n",
    "    character_lm += \"A quick and nimble fighter\"\n",
    "\n",
    "with assistant():\n",
    "    character_lm += \"\"\"{\n",
    "    \"description\": \"A quick and nimble fighter\",\n",
    "    \"name\": \"Mokosh\",\n",
    "    \"age\": 20,\n",
    "    \"armour\": \"chainmail\",\n",
    "    \"weapon\": \"sword\",\n",
    "    \"class\": \"fighter\",\n",
    "    \"mantra\": \"I am the sword of the gods\",\n",
    "    \"strength\": 10,\n",
    "    \"quest_items\": [\n",
    "        \"Bag of holding\",\n",
    "        \"Amulet of Perun\",\n",
    "    ]\n",
    "}\"\"\"\n",
    "\n",
    "# Now ask for our character\n",
    "with user():\n",
    "    character_lm += \"A character attuned to the forest\"\n",
    "\n",
    "with assistant():\n",
    "    character_lm += gen_json(schema=character_schema_obj, name=\"next_character\", temperature=0.8)"
   ]
  },
  {
   "cell_type": "code",
   "execution_count": null,
   "id": "30f0b18a-4652-4fd2-9034-62c59ce772e2",
   "metadata": {},
   "outputs": [],
   "source": [
    "loaded_character = json.loads(character_lm[\"next_character\"])\n",
    "\n",
    "validate(instance=loaded_character, schema=character_schema_obj)\n",
    "\n",
    "print(json.dumps(loaded_character, indent=4))"
   ]
  },
  {
   "cell_type": "code",
   "execution_count": null,
   "id": "30654b26-1d57-4cc6-b604-5efdd733bc94",
   "metadata": {},
   "outputs": [],
   "source": [
    "@guidance\n",
    "def generate_character(\n",
    "    lm_curr,\n",
    "    key: str,\n",
    "    character_one_liner: str,\n",
    "    temperature: float\n",
    "):\n",
    "    with system():\n",
    "        lm_curr += \"\"\"You are a DM creating characters for a game set in a Tolkienesque setting.\n",
    "Users will provide a one-line description of a character, you and should respond with a longer\n",
    "description in JSON format.\n",
    "\"\"\"\n",
    "\n",
    "    # Now give an example\n",
    "    with user():\n",
    "        lm_curr += \"A quick and nimble fighter\"\n",
    "\n",
    "    with assistant():\n",
    "        lm_curr += \"\"\"{\n",
    "    \"description\": \"A quick and nimble fighter\",\n",
    "    \"name\": \"Mokosh\",\n",
    "    \"age\": 20,\n",
    "    \"armour\": \"chainmail\",\n",
    "    \"weapon\": \"sword\",\n",
    "    \"class\": \"fighter\",\n",
    "    \"mantra\": \"I am the sword of the gods\",\n",
    "    \"strength\": 10,\n",
    "    \"quest_items\": [\n",
    "        \"Bag of holding\",\n",
    "        \"Amulet of Perun\",\n",
    "    ]\n",
    "}\"\"\"\n",
    "\n",
    "    # Now ask for our character\n",
    "    with user():\n",
    "        lm_curr += character_one_liner\n",
    "\n",
    "    with assistant():\n",
    "        lm_curr += gen_json(schema=character_schema_obj, name=key)\n",
    "\n",
    "    return lm_curr"
   ]
  },
  {
   "cell_type": "code",
   "execution_count": null,
   "id": "5888b3b9-d46c-46e0-baad-9a687e895d01",
   "metadata": {},
   "outputs": [],
   "source": [
    "key = \"new_character\"\n",
    "char_0 = lm + generate_character(character_one_liner=\"A crafty rogue\", key=key, temperature=0.8)\n",
    "\n",
    "print(json.dumps(json.loads(char_0[key]), indent=4))"
   ]
  },
  {
   "cell_type": "code",
   "execution_count": null,
   "id": "304a9267-ffb0-4598-9053-7146f4a0150e",
   "metadata": {},
   "outputs": [],
   "source": [
    "char_1 = char_0 + generate_character(character_one_liner=\"A paladin from strange lands\", key=key, temperature=0.8)\n",
    "\n",
    "print(json.dumps(json.loads(char_1[key]), indent=4))"
   ]
  },
  {
   "cell_type": "code",
   "execution_count": null,
   "id": "d542522d-7a34-48cf-a451-494769c714d9",
   "metadata": {},
   "outputs": [],
   "source": []
  }
 ],
 "metadata": {
  "kernelspec": {
   "display_name": "Python 3 (ipykernel)",
   "language": "python",
   "name": "python3"
  },
  "language_info": {
   "codemirror_mode": {
    "name": "ipython",
    "version": 3
   },
   "file_extension": ".py",
   "mimetype": "text/x-python",
   "name": "python",
   "nbconvert_exporter": "python",
   "pygments_lexer": "ipython3",
   "version": "3.12.7"
  }
 },
 "nbformat": 4,
 "nbformat_minor": 5
}
